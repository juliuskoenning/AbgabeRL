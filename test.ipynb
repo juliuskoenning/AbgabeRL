{
 "cells": [
  {
   "attachments": {},
   "cell_type": "markdown",
   "metadata": {},
   "source": [
    "# Test of Tetris Reinforcement Learning"
   ]
  },
  {
   "cell_type": "code",
   "execution_count": 1,
   "metadata": {},
   "outputs": [],
   "source": [
    "# Import necessary libraries\n",
    "import torch\n",
    "import cv2\n",
    "from src.tetris import Tetris"
   ]
  },
  {
   "cell_type": "code",
   "execution_count": 2,
   "metadata": {},
   "outputs": [],
   "source": [
    "# helper class that serves as a container for various configuration options for tetris and agent\n",
    "class Options:\n",
    "    def __init__(self, width, height, block_size, fps, saved_path, output):\n",
    "        self.width = width\n",
    "        self.height = height\n",
    "        self.block_size = block_size\n",
    "        self.fps = fps\n",
    "        self.saved_path = saved_path\n",
    "        self.output = output"
   ]
  },
  {
   "cell_type": "code",
   "execution_count": 3,
   "metadata": {},
   "outputs": [],
   "source": [
    "# test the AI model in the game of Tetris\n",
    "def test(opt):\n",
    "    # seed for random number generation to ensure reproducibility of results\n",
    "    if torch.cuda.is_available():\n",
    "        torch.cuda.manual_seed(256)\n",
    "    else:\n",
    "        torch.manual_seed(256)\n",
    "        \n",
    "    # load trained model. If CUDA is available model is loaded into GPU. Otherwise it is loaded into CPU   \n",
    "    if torch.cuda.is_available():\n",
    "        model = torch.load(\"{}/tetris\".format(opt.saved_path))\n",
    "    else:\n",
    "        model = torch.load(\"{}/tetris\".format(opt.saved_path), map_location=lambda storage, loc: storage)\n",
    "    model.eval()\n",
    "    \n",
    "    # create new game of tetris with the specified parameters    \n",
    "    env = Tetris(width=opt.width, height=opt.height, block_size=opt.block_size)\n",
    "    env.reset()\n",
    "    \n",
    "    # move model to GPU if available\n",
    "    if torch.cuda.is_available():\n",
    "        model.cuda()\n",
    "        \n",
    "    # create video writer object. Will output a video file of agent playing the game \n",
    "    out = cv2.VideoWriter(opt.output, cv2.VideoWriter_fourcc(*\"MJPG\"), opt.fps,\n",
    "                          (int(1.5*opt.width*opt.block_size), opt.height*opt.block_size))\n",
    "    while True:\n",
    "        # get next possible states of the game    \n",
    "        next_steps = env.get_next_states()\n",
    "        next_actions, next_states = zip(*next_steps.items())\n",
    "        next_states = torch.stack(next_states)\n",
    "        \n",
    "        # move the states to GPU if available\n",
    "        if torch.cuda.is_available():\n",
    "            next_states = next_states.cuda()\n",
    "            \n",
    "        # model makes predictions based on next possible states\n",
    "        predictions = model(next_states)[:, 0]\n",
    "        \n",
    "        # action with highest prediction value is chosen\n",
    "        index = torch.argmax(predictions).item()\n",
    "        action = next_actions[index]\n",
    "        \n",
    "        # perform the chosen action in the game\n",
    "        _, done = env.step(action, render=True, video=out)\n",
    "\n",
    "        # if game is over close video writer and exit loop\n",
    "        if done:\n",
    "            out.release()\n",
    "            break"
   ]
  },
  {
   "cell_type": "code",
   "execution_count": 4,
   "metadata": {},
   "outputs": [
    {
     "name": "stderr",
     "output_type": "stream",
     "text": [
      "OpenCV: FFMPEG: tag 0x47504a4d/'MJPG' is not supported with codec id 7 and format 'mp4 / MP4 (MPEG-4 Part 14)'\n",
      "OpenCV: FFMPEG: fallback to use tag 0x7634706d/'mp4v'\n"
     ]
    }
   ],
   "source": [
    "# manually setting the parameters\n",
    "opt = Options(width=10, height=20, block_size=30, fps=300, saved_path=\"trained_models\", output=\"output.mp4\")\n",
    "test(opt)"
   ]
  }
 ],
 "metadata": {
  "kernelspec": {
   "display_name": "moon",
   "language": "python",
   "name": "python3"
  },
  "language_info": {
   "codemirror_mode": {
    "name": "ipython",
    "version": 3
   },
   "file_extension": ".py",
   "mimetype": "text/x-python",
   "name": "python",
   "nbconvert_exporter": "python",
   "pygments_lexer": "ipython3",
   "version": "3.10.12 | packaged by conda-forge | (main, Jun 23 2023, 22:41:52) [Clang 15.0.7 ]"
  },
  "orig_nbformat": 4,
  "vscode": {
   "interpreter": {
    "hash": "d7f375fe7c3024b2039c128ab0d6d39d3322a41f24aad03cfdc19378924b5e1e"
   }
  }
 },
 "nbformat": 4,
 "nbformat_minor": 2
}
